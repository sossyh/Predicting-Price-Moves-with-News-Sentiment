{
 "cells": [
  {
   "cell_type": "code",
   "execution_count": 10,
   "id": "ffa4ccb5",
   "metadata": {},
   "outputs": [
    {
     "name": "stderr",
     "output_type": "stream",
     "text": [
      "c:\\Users\\soswo\\OneDrive\\Desktop\\projects\\a\\Predicting-Price-Moves-with-News-Sentiment\\src\\news.py:13: FutureWarning: In a future version of pandas, parsing datetimes with mixed time zones will raise an error unless `utc=True`. Please specify `utc=True` to opt in to the new behaviour and silence this warning. To create a `Series` with mixed offsets and `object` dtype, please use `apply` and `datetime.datetime.strptime`\n",
      "  self.df[\"date\"] = pd.to_datetime(self.df[\"date\"], format='mixed', errors='coerce')\n"
     ]
    },
    {
     "name": "stdout",
     "output_type": "stream",
     "text": [
      "         date                                           headline        Date  \\\n",
      "0  2020-05-22  46 Stocks Moving In Friday's Mid-Day Session B...  2020-05-22   \n",
      "1  2020-05-26  71 Biggest Movers From Friday 71 Biggest Mover...  2020-05-26   \n",
      "2  2020-06-03  Stocks That Hit 52-Week Highs On Wednesday Sto...  2020-06-03   \n",
      "3  2020-06-05  Stocks That Hit 52-Week Highs On Friday Stocks...  2020-06-05   \n",
      "\n",
      "        Open       High        Low      Close  Adj Close     Volume  \\\n",
      "0  78.942497  79.807503  78.837502  79.722504  77.768188   81803200   \n",
      "1  80.875000  81.059998  79.125000  79.182503  77.241432  125522000   \n",
      "2  81.165001  81.550003  80.574997  81.279999  79.287506  104491200   \n",
      "3  80.837502  82.937500  80.807503  82.875000  80.843407  137250400   \n",
      "\n",
      "   Dividends  Stock Splits  \n",
      "0        0.0           0.0  \n",
      "1        0.0           0.0  \n",
      "2        0.0           0.0  \n",
      "3        0.0           0.0  \n"
     ]
    }
   ],
   "source": [
    "# Step 1: Upload your module\n",
    "# (Assume you uploaded 'date_alignment.py' and your data files already)\n",
    "sys.path.append(os.path.abspath(\"..\"))\n",
    "\n",
    "\n",
    "from src.date_alignment import DateAligner\n",
    "from src.news import NewsAnalyzer\n",
    "import pandas as pd\n",
    "\n",
    "# Step 2: Load news data\n",
    "news_filepath = '../data/raw_analyst_ratings.csv'\n",
    "news_analyzer = NewsAnalyzer(news_filepath)\n",
    "news_df = news_analyzer.df[[\"date\", \"headline\"]]  # Only keep what's needed\n",
    "\n",
    "# Step 3: Load one stock file (e.g., AAPL)\n",
    "stock_filepath = '../data/yfinance/AAPL_historical_data.csv'\n",
    "stock_df = pd.read_csv(stock_filepath)\n",
    "\n",
    "# Step 4: Align dates using the module\n",
    "aligner = DateAligner(news_df, stock_df)\n",
    "aligned_df = aligner.align()\n",
    "\n",
    "# Step 5: Display merged data\n",
    "print(aligned_df.head())\n",
    "\n",
    "# Optional: Save to CSV\n",
    "aligned_df.to_csv(\"aligned_news_stock_AAPL.csv\", index=False)\n"
   ]
  }
 ],
 "metadata": {
  "kernelspec": {
   "display_name": "venv",
   "language": "python",
   "name": "python3"
  },
  "language_info": {
   "codemirror_mode": {
    "name": "ipython",
    "version": 3
   },
   "file_extension": ".py",
   "mimetype": "text/x-python",
   "name": "python",
   "nbconvert_exporter": "python",
   "pygments_lexer": "ipython3",
   "version": "3.12.7"
  }
 },
 "nbformat": 4,
 "nbformat_minor": 5
}
