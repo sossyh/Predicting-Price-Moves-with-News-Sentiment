{
 "cells": [
  {
   "cell_type": "code",
   "execution_count": null,
   "id": "ffa4ccb5",
   "metadata": {},
   "outputs": [
    {
     "name": "stderr",
     "output_type": "stream",
     "text": [
      "c:\\Users\\soswo\\OneDrive\\Desktop\\projects\\a\\Predicting-Price-Moves-with-News-Sentiment\\src\\news.py:13: FutureWarning: In a future version of pandas, parsing datetimes with mixed time zones will raise an error unless `utc=True`. Please specify `utc=True` to opt in to the new behaviour and silence this warning. To create a `Series` with mixed offsets and `object` dtype, please use `apply` and `datetime.datetime.strptime`\n",
      "  self.df[\"date\"] = pd.to_datetime(self.df[\"date\"], format='mixed', errors='coerce')\n"
     ]
    },
    {
     "name": "stdout",
     "output_type": "stream",
     "text": [
      "         date                                           headline        Date  \\\n",
      "0  2020-05-22  46 Stocks Moving In Friday's Mid-Day Session B...  2020-05-22   \n",
      "1  2020-05-26  71 Biggest Movers From Friday 71 Biggest Mover...  2020-05-26   \n",
      "2  2020-06-03  Stocks That Hit 52-Week Highs On Wednesday Sto...  2020-06-03   \n",
      "3  2020-06-05  Stocks That Hit 52-Week Highs On Friday Stocks...  2020-06-05   \n",
      "\n",
      "        Open       High        Low      Close  Adj Close     Volume  \\\n",
      "0  78.942497  79.807503  78.837502  79.722504  77.768188   81803200   \n",
      "1  80.875000  81.059998  79.125000  79.182503  77.241432  125522000   \n",
      "2  81.165001  81.550003  80.574997  81.279999  79.287506  104491200   \n",
      "3  80.837502  82.937500  80.807503  82.875000  80.843407  137250400   \n",
      "\n",
      "   Dividends  Stock Splits  \n",
      "0        0.0           0.0  \n",
      "1        0.0           0.0  \n",
      "2        0.0           0.0  \n",
      "3        0.0           0.0  \n"
     ]
    }
   ],
   "source": [
    "# Step 1: Upload your module\n",
    "import sys\n",
    "import os\n",
    "sys.path.append(os.path.abspath(\"..\"))\n",
    "\n",
    "\n",
    "from src.date_alignment import DateAligner\n",
    "from src.news import NewsAnalyzer\n",
    "import pandas as pd\n",
    "\n",
    "# Step 2: Load news data\n",
    "news_filepath = '../data/raw_analyst_ratings.csv'\n",
    "news_analyzer = NewsAnalyzer(news_filepath)\n",
    "news_df = news_analyzer.df[[\"date\", \"headline\"]]  # Only keep what's needed\n",
    "\n",
    "# Step 3: Load one stock file (e.g., AAPL)\n",
    "stock_filepath = '../data/yfinance/AAPL_historical_data.csv'\n",
    "stock_df = pd.read_csv(stock_filepath)\n",
    "\n",
    "# Step 4: Align dates using the module\n",
    "aligner = DateAligner(news_df, stock_df)\n",
    "aligned_df = aligner.align()\n",
    "\n",
    "# Step 5: Display merged data\n",
    "print(aligned_df.head())\n",
    "\n",
    "# Optional: Save to CSV\n",
    "aligned_df.to_csv(\"aligned_news_stock_AAPL.csv\", index=False)\n"
   ]
  },
  {
   "cell_type": "code",
   "execution_count": 3,
   "id": "d4e4cd2a",
   "metadata": {},
   "outputs": [
    {
     "name": "stdout",
     "output_type": "stream",
     "text": [
      "                                            headline  polarity sentiment\n",
      "0            Stocks That Hit 52-Week Highs On Friday       0.0   neutral\n",
      "1         Stocks That Hit 52-Week Highs On Wednesday       0.0   neutral\n",
      "2                      71 Biggest Movers From Friday       0.0   neutral\n",
      "3       46 Stocks Moving In Friday's Mid-Day Session       0.0   neutral\n",
      "4  B of A Securities Maintains Neutral on Agilent...       0.0   neutral\n"
     ]
    },
    {
     "name": "stderr",
     "output_type": "stream",
     "text": [
      "C:\\Users\\soswo\\AppData\\Local\\Temp\\ipykernel_19828\\396451746.py:24: FutureWarning: \n",
      "\n",
      "Passing `palette` without assigning `hue` is deprecated and will be removed in v0.14.0. Assign the `x` variable to `hue` and set `legend=False` for the same effect.\n",
      "\n",
      "  sns.countplot(data=df_results, x='sentiment', palette='coolwarm')\n"
     ]
    },
    {
     "data": {
      "image/png": "[encoded data removed]",
      "text/plain": [
       "<Figure size 640x480 with 1 Axes>"
      ]
     },
     "metadata": {},
     "output_type": "display_data"
    }
   ],
   "source": [
    "import os\n",
    "import sys\n",
    "sys.path.append(os.path.abspath(\"..\"))  # Adjust if your notebook is in a subfolder\n",
    "\n",
    "# Import your module\n",
    "from src.sentiment_analysis import HeadlineSentimentAnalyzer\n",
    "\n",
    "# Provide your uploaded file path\n",
    "news_file = '../data/raw_analyst_ratings.csv'\n",
    "\n",
    "# Initialize the analyzer\n",
    "analyzer = HeadlineSentimentAnalyzer(news_file)\n",
    "\n",
    "# Run sentiment analysis\n",
    "df_results = analyzer.analyze_sentiment()\n",
    "\n",
    "# Display the first few rows\n",
    "print(df_results.head())\n",
    "\n",
    "# Plot sentiment distribution\n",
    "import seaborn as sns\n",
    "import matplotlib.pyplot as plt\n",
    "\n",
    "sns.countplot(data=df_results, x='sentiment', palette='coolwarm')\n",
    "plt.title(\"Sentiment Distribution of News Headlines\")\n",
    "plt.show()\n"
   ]
  },
  {
   "cell_type": "code",
   "execution_count": 1,
   "id": "8ada3b8e",
   "metadata": {},
   "outputs": [
    {
     "name": "stdout",
     "output_type": "stream",
     "text": [
      "          Date     Close ticker  daily_return\n",
      "1   1980-12-15  0.121652   AAPL     -0.052171\n",
      "2   1980-12-16  0.112723   AAPL     -0.073398\n",
      "3   1980-12-17  0.115513   AAPL      0.024751\n",
      "4   1980-12-18  0.118862   AAPL      0.028992\n",
      "5   1980-12-19  0.126116   AAPL      0.061029\n",
      "6   1980-12-22  0.132254   AAPL      0.048670\n",
      "7   1980-12-23  0.137835   AAPL      0.042199\n",
      "8   1980-12-24  0.145089   AAPL      0.052628\n",
      "9   1980-12-26  0.158482   AAPL      0.092309\n",
      "10  1980-12-29  0.160714   AAPL      0.014084\n"
     ]
    }
   ],
   "source": [
    "import sys\n",
    "import os\n",
    "sys.path.append(os.path.abspath(\"..\"))  # Adjust if your notebook is in a subfolder\n",
    "\n",
    "from src.daily_stock_returns import DailyReturnCalculator\n",
    "\n",
    "# File paths (adjust if uploaded somewhere else in Colab)\n",
    "stock_files = [\n",
    "    \"../data/yfinance/AAPL_historical_data.csv\",\n",
    "    \"../data/yfinance/AMZN_historical_data.csv\",\n",
    "    \"../data/yfinance/GOOG_historical_data.csv\",\n",
    "    \"../data/yfinance/META_historical_data.csv\",\n",
    "    \"../data/yfinance/MSFT_historical_data.csv\",\n",
    "    \"../data/yfinance/NVDA_historical_data.csv\", \n",
    "    \"../data/yfinance/TSLA_historical_data.csv\",\n",
    "]\n",
    "\n",
    "calculator = DailyReturnCalculator(stock_files)\n",
    "result_df = calculator.show_sample(10)  # Show top 10 rows\n",
    "\n"
   ]
  }
 ],
 "metadata": {
  "kernelspec": {
   "display_name": "venv",
   "language": "python",
   "name": "python3"
  },
  "language_info": {
   "codemirror_mode": {
    "name": "ipython",
    "version": 3
   },
   "file_extension": ".py",
   "mimetype": "text/x-python",
   "name": "python",
   "nbconvert_exporter": "python",
   "pygments_lexer": "ipython3",
   "version": "3.12.7"
  }
 },
 "nbformat": 4,
 "nbformat_minor": 5
}
